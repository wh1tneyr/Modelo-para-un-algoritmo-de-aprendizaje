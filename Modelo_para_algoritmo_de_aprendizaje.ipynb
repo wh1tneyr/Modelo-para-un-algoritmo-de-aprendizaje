{
 "cells": [
  {
   "cell_type": "markdown",
   "metadata": {},
   "source": [
    "## Introducción\n",
    "\n",
    "En el siguiente proyecto trabajaré con la base de datos de una compañía móvil en la cual analizaré el comportamiento de sus clientes con el objetivo de recomendar un nuevo plan. Para realizar estas recomendaciones, desarrollaré un modelo de clasificación que escoja correctamente cual de los planes se ajusta mejor a cada usuario de acuerdo con sus características, con la mayor exactitud posible, estableciendo un umbral de 0.75. \n",
    "\n",
    "#### Secciones a desarrollar:\n",
    "\n",
    "1. Inicialización: importar las librerías con las que trabajaré y cargar los datos en un DataFrame.\n",
    "2. Segmentar los datos para el modelo de aprendizaje.\n",
    "3. Comparar la calidad de diferentes modelos de clasificación.\n",
    "4. Elegir un modelo y comprobar su calidad con el conjunto de prueba.\n",
    "5. Prueba de cordura en el modelo elegido.\n",
    "6. Conclusiones generales."
   ]
  },
  {
   "cell_type": "markdown",
   "metadata": {},
   "source": [
    "## 1. Incialización"
   ]
  },
  {
   "cell_type": "code",
   "execution_count": 1,
   "metadata": {},
   "outputs": [],
   "source": [
    "#importar librerías\n",
    "import pandas as pd\n",
    "from sklearn.model_selection import train_test_split\n",
    "from sklearn.metrics import mean_squared_error\n",
    "from sklearn.metrics import accuracy_score"
   ]
  },
  {
   "cell_type": "code",
   "execution_count": 2,
   "metadata": {},
   "outputs": [],
   "source": [
    "#librerías para elegir un modelo\n",
    "from sklearn.linear_model import LogisticRegression\n",
    "from sklearn.linear_model import LinearRegression\n",
    "from sklearn.tree import DecisionTreeRegressor\n",
    "from sklearn.ensemble import RandomForestRegressor"
   ]
  },
  {
   "cell_type": "markdown",
   "metadata": {},
   "source": [
    "## 1.1 Cargar datos"
   ]
  },
  {
   "cell_type": "code",
   "execution_count": 3,
   "metadata": {},
   "outputs": [],
   "source": [
    "#cargar dataset\n",
    "users_behav = pd.read_csv(\"datasets/users_behavior.csv\")"
   ]
  },
  {
   "cell_type": "code",
   "execution_count": 4,
   "metadata": {},
   "outputs": [
    {
     "name": "stdout",
     "output_type": "stream",
     "text": [
      "<class 'pandas.core.frame.DataFrame'>\n",
      "RangeIndex: 3214 entries, 0 to 3213\n",
      "Data columns (total 5 columns):\n",
      " #   Column    Non-Null Count  Dtype  \n",
      "---  ------    --------------  -----  \n",
      " 0   calls     3214 non-null   float64\n",
      " 1   minutes   3214 non-null   float64\n",
      " 2   messages  3214 non-null   float64\n",
      " 3   mb_used   3214 non-null   float64\n",
      " 4   is_ultra  3214 non-null   int64  \n",
      "dtypes: float64(4), int64(1)\n",
      "memory usage: 125.7 KB\n"
     ]
    }
   ],
   "source": [
    "#visualizar informacion general del dataset\n",
    "users_behav.info()"
   ]
  },
  {
   "cell_type": "code",
   "execution_count": 5,
   "metadata": {},
   "outputs": [
    {
     "data": {
      "text/html": [
       "<div>\n",
       "<style scoped>\n",
       "    .dataframe tbody tr th:only-of-type {\n",
       "        vertical-align: middle;\n",
       "    }\n",
       "\n",
       "    .dataframe tbody tr th {\n",
       "        vertical-align: top;\n",
       "    }\n",
       "\n",
       "    .dataframe thead th {\n",
       "        text-align: right;\n",
       "    }\n",
       "</style>\n",
       "<table border=\"1\" class=\"dataframe\">\n",
       "  <thead>\n",
       "    <tr style=\"text-align: right;\">\n",
       "      <th></th>\n",
       "      <th>calls</th>\n",
       "      <th>minutes</th>\n",
       "      <th>messages</th>\n",
       "      <th>mb_used</th>\n",
       "      <th>is_ultra</th>\n",
       "    </tr>\n",
       "  </thead>\n",
       "  <tbody>\n",
       "    <tr>\n",
       "      <th>0</th>\n",
       "      <td>40.0</td>\n",
       "      <td>311.90</td>\n",
       "      <td>83.0</td>\n",
       "      <td>19915.42</td>\n",
       "      <td>0</td>\n",
       "    </tr>\n",
       "    <tr>\n",
       "      <th>1</th>\n",
       "      <td>85.0</td>\n",
       "      <td>516.75</td>\n",
       "      <td>56.0</td>\n",
       "      <td>22696.96</td>\n",
       "      <td>0</td>\n",
       "    </tr>\n",
       "    <tr>\n",
       "      <th>2</th>\n",
       "      <td>77.0</td>\n",
       "      <td>467.66</td>\n",
       "      <td>86.0</td>\n",
       "      <td>21060.45</td>\n",
       "      <td>0</td>\n",
       "    </tr>\n",
       "    <tr>\n",
       "      <th>3</th>\n",
       "      <td>106.0</td>\n",
       "      <td>745.53</td>\n",
       "      <td>81.0</td>\n",
       "      <td>8437.39</td>\n",
       "      <td>1</td>\n",
       "    </tr>\n",
       "    <tr>\n",
       "      <th>4</th>\n",
       "      <td>66.0</td>\n",
       "      <td>418.74</td>\n",
       "      <td>1.0</td>\n",
       "      <td>14502.75</td>\n",
       "      <td>0</td>\n",
       "    </tr>\n",
       "  </tbody>\n",
       "</table>\n",
       "</div>"
      ],
      "text/plain": [
       "   calls  minutes  messages   mb_used  is_ultra\n",
       "0   40.0   311.90      83.0  19915.42         0\n",
       "1   85.0   516.75      56.0  22696.96         0\n",
       "2   77.0   467.66      86.0  21060.45         0\n",
       "3  106.0   745.53      81.0   8437.39         1\n",
       "4   66.0   418.74       1.0  14502.75         0"
      ]
     },
     "execution_count": 5,
     "metadata": {},
     "output_type": "execute_result"
    }
   ],
   "source": [
    "#visualizar datos\n",
    "users_behav.head()"
   ]
  },
  {
   "cell_type": "code",
   "execution_count": 6,
   "metadata": {},
   "outputs": [
    {
     "data": {
      "text/plain": [
       "0"
      ]
     },
     "execution_count": 6,
     "metadata": {},
     "output_type": "execute_result"
    }
   ],
   "source": [
    "#revisar valores duplicados en el dataframe\n",
    "users_behav.duplicated().sum()"
   ]
  },
  {
   "cell_type": "code",
   "execution_count": 7,
   "metadata": {},
   "outputs": [
    {
     "data": {
      "text/plain": [
       "calls       0\n",
       "minutes     0\n",
       "messages    0\n",
       "mb_used     0\n",
       "is_ultra    0\n",
       "dtype: int64"
      ]
     },
     "execution_count": 7,
     "metadata": {},
     "output_type": "execute_result"
    }
   ],
   "source": [
    "#revisar valores ausentes en el dataframe\n",
    "users_behav.isna().sum()"
   ]
  },
  {
   "cell_type": "code",
   "execution_count": 8,
   "metadata": {},
   "outputs": [
    {
     "data": {
      "text/html": [
       "<div>\n",
       "<style scoped>\n",
       "    .dataframe tbody tr th:only-of-type {\n",
       "        vertical-align: middle;\n",
       "    }\n",
       "\n",
       "    .dataframe tbody tr th {\n",
       "        vertical-align: top;\n",
       "    }\n",
       "\n",
       "    .dataframe thead th {\n",
       "        text-align: right;\n",
       "    }\n",
       "</style>\n",
       "<table border=\"1\" class=\"dataframe\">\n",
       "  <thead>\n",
       "    <tr style=\"text-align: right;\">\n",
       "      <th></th>\n",
       "      <th>calls</th>\n",
       "      <th>minutes</th>\n",
       "      <th>messages</th>\n",
       "      <th>mb_used</th>\n",
       "      <th>is_ultra</th>\n",
       "    </tr>\n",
       "  </thead>\n",
       "  <tbody>\n",
       "    <tr>\n",
       "      <th>count</th>\n",
       "      <td>3214.000000</td>\n",
       "      <td>3214.000000</td>\n",
       "      <td>3214.000000</td>\n",
       "      <td>3214.000000</td>\n",
       "      <td>3214.000000</td>\n",
       "    </tr>\n",
       "    <tr>\n",
       "      <th>mean</th>\n",
       "      <td>63.038892</td>\n",
       "      <td>438.208787</td>\n",
       "      <td>38.281269</td>\n",
       "      <td>17207.673836</td>\n",
       "      <td>0.306472</td>\n",
       "    </tr>\n",
       "    <tr>\n",
       "      <th>std</th>\n",
       "      <td>33.236368</td>\n",
       "      <td>234.569872</td>\n",
       "      <td>36.148326</td>\n",
       "      <td>7570.968246</td>\n",
       "      <td>0.461100</td>\n",
       "    </tr>\n",
       "    <tr>\n",
       "      <th>min</th>\n",
       "      <td>0.000000</td>\n",
       "      <td>0.000000</td>\n",
       "      <td>0.000000</td>\n",
       "      <td>0.000000</td>\n",
       "      <td>0.000000</td>\n",
       "    </tr>\n",
       "    <tr>\n",
       "      <th>25%</th>\n",
       "      <td>40.000000</td>\n",
       "      <td>274.575000</td>\n",
       "      <td>9.000000</td>\n",
       "      <td>12491.902500</td>\n",
       "      <td>0.000000</td>\n",
       "    </tr>\n",
       "    <tr>\n",
       "      <th>50%</th>\n",
       "      <td>62.000000</td>\n",
       "      <td>430.600000</td>\n",
       "      <td>30.000000</td>\n",
       "      <td>16943.235000</td>\n",
       "      <td>0.000000</td>\n",
       "    </tr>\n",
       "    <tr>\n",
       "      <th>75%</th>\n",
       "      <td>82.000000</td>\n",
       "      <td>571.927500</td>\n",
       "      <td>57.000000</td>\n",
       "      <td>21424.700000</td>\n",
       "      <td>1.000000</td>\n",
       "    </tr>\n",
       "    <tr>\n",
       "      <th>max</th>\n",
       "      <td>244.000000</td>\n",
       "      <td>1632.060000</td>\n",
       "      <td>224.000000</td>\n",
       "      <td>49745.730000</td>\n",
       "      <td>1.000000</td>\n",
       "    </tr>\n",
       "  </tbody>\n",
       "</table>\n",
       "</div>"
      ],
      "text/plain": [
       "             calls      minutes     messages       mb_used     is_ultra\n",
       "count  3214.000000  3214.000000  3214.000000   3214.000000  3214.000000\n",
       "mean     63.038892   438.208787    38.281269  17207.673836     0.306472\n",
       "std      33.236368   234.569872    36.148326   7570.968246     0.461100\n",
       "min       0.000000     0.000000     0.000000      0.000000     0.000000\n",
       "25%      40.000000   274.575000     9.000000  12491.902500     0.000000\n",
       "50%      62.000000   430.600000    30.000000  16943.235000     0.000000\n",
       "75%      82.000000   571.927500    57.000000  21424.700000     1.000000\n",
       "max     244.000000  1632.060000   224.000000  49745.730000     1.000000"
      ]
     },
     "execution_count": 8,
     "metadata": {},
     "output_type": "execute_result"
    }
   ],
   "source": [
    "#visualizar estadísticas generales en el dataframe\n",
    "users_behav.describe()"
   ]
  },
  {
   "cell_type": "markdown",
   "metadata": {},
   "source": [
    "Al realizar una exploración inicial en la base de datos, encuentro que se encuentra en buen estado para comenzar a trabajar con ella. No se encontraron filas duplicadas ni valores ausentes y, en cuanto a los tipos de datos en las columnas, estos están correctos."
   ]
  },
  {
   "cell_type": "markdown",
   "metadata": {},
   "source": [
    "## 2. Segmentar los datos para el modelo"
   ]
  },
  {
   "cell_type": "code",
   "execution_count": 9,
   "metadata": {},
   "outputs": [],
   "source": [
    "#definir variables para las características y el objeto del modelo\n",
    "features = users_behav.drop(['is_ultra'], axis=1)\n",
    "target = users_behav['is_ultra']\n",
    "\n",
    "#segmentar un conjunto de entranamiento y uno de validación \n",
    "features_train, features_valid, target_train, target_valid = train_test_split(features, target, test_size=0.20, random_state=12345)\n",
    "\n",
    "#segmentar el conjunto de validacion en uno de testeo y otro de validación\n",
    "features_test, features_valid_test, target_test, target_valid_test = train_test_split(features_valid, target_valid, test_size=0.20, random_state=12345)"
   ]
  },
  {
   "cell_type": "markdown",
   "metadata": {},
   "source": [
    "He segmentado el dataset fuente en tres conjuntos: set de entrenamiento, set de validación y set de testeo, con los que pondré a prueba cada uno de los modelos de clasificación. Posteriormente, elegiré un modelo definitivo para implementar con el dataset fuente completo."
   ]
  },
  {
   "cell_type": "markdown",
   "metadata": {},
   "source": [
    "## 3. Comparar la calidad de los modelos"
   ]
  },
  {
   "cell_type": "markdown",
   "metadata": {},
   "source": [
    "### 3.1 Árbol de decisión de regresión"
   ]
  },
  {
   "cell_type": "code",
   "execution_count": 10,
   "metadata": {},
   "outputs": [
    {
     "name": "stdout",
     "output_type": "stream",
     "text": [
      "RECM del mejor modelo en el conjunto de validación (max_depth = 5): 0.4015534785850737\n",
      "\n",
      "Exactitud del modelo en el conjunto de validación = 0.239069247263892\n",
      "Exactitud del modelo en el conjunto de entrenamiento = 0.331617391235569\n",
      "Exactitud del modelo en el conjunto de testeo = 0.25464931595726614\n"
     ]
    }
   ],
   "source": [
    "#árbol de decisión de regresión\n",
    "best_model = None\n",
    "best_result = 10000\n",
    "best_depth = 0\n",
    "\n",
    "for depth in range (1,6):\n",
    "    model = DecisionTreeRegressor(random_state=12345, max_depth=depth, min_samples_split=2, min_samples_leaf=1, splitter='best')\n",
    "    model.fit(features_train, target_train)\n",
    "    prediction_valid = model.predict(features_valid)\n",
    "\n",
    "    result = mean_squared_error(target_valid, prediction_valid) ** 0.5\n",
    "\n",
    "    if result < best_result:\n",
    "        best_model = model\n",
    "        best_result = result\n",
    "        best_depth = depth\n",
    "\n",
    "\n",
    "print(f\"RECM del mejor modelo en el conjunto de validación (max_depth = {best_depth}): {best_result}\")\n",
    "print()\n",
    "print(f\"Exactitud del modelo en el conjunto de validación = {model.score(features_valid, target_valid)}\")\n",
    "print(f\"Exactitud del modelo en el conjunto de entrenamiento = {model.score(features_train, target_train)}\")\n",
    "print(f\"Exactitud del modelo en el conjunto de testeo = {model.score(features_test, target_test)}\")"
   ]
  },
  {
   "cell_type": "markdown",
   "metadata": {},
   "source": [
    "Al probar un árbol de decisión de regresión me doy cuenta de que este modelo no alcanza el umbral de exactitud de 0.75 requerido para este proyecto, alcanzando 0.33. Y parece estar sobreajustado. Descarto este modelo por que el nivel de exactitud."
   ]
  },
  {
   "cell_type": "markdown",
   "metadata": {},
   "source": [
    "### 3.2 Bosque aleatorio de regresión"
   ]
  },
  {
   "cell_type": "code",
   "execution_count": 11,
   "metadata": {},
   "outputs": [
    {
     "name": "stdout",
     "output_type": "stream",
     "text": [
      "RECM del mejor modelo en el conjunto de validación= 0.4015534785850737, n_estimators= 10, best_depth= 1\n",
      "\n",
      "Exactitud del modelo en el conjunto de validación = 0.285532574581872\n",
      "Exactitud del modelo en el conjunto de entrenamiento = 0.5279879923905082\n",
      "Exactitud del modelo en el conjunto de testeo = 0.3237165591283928\n"
     ]
    }
   ],
   "source": [
    "#RandomForest regresor\n",
    "best_model = None\n",
    "best_result = 10000\n",
    "best_depth = 0\n",
    "best_est = 0\n",
    "\n",
    "for est in range(10, 50, 100):\n",
    "    for depth in range(1, 11):\n",
    "        model = RandomForestRegressor(random_state=12345, n_estimators=est, max_depth=depth, min_samples_leaf=1, min_samples_split=2, max_features=1)\n",
    "        model.fit(features_train, target_train)\n",
    "        predictions_valid = model.predict(features_valid)\n",
    "        \n",
    "        result = mean_squared_error(target_valid, prediction_valid) ** 0.5\n",
    "\n",
    "        if result < best_result:\n",
    "            best_model = model\n",
    "            best_result = result\n",
    "            best_depth = depth\n",
    "            best_est = est\n",
    "\n",
    "\n",
    "print(f\"RECM del mejor modelo en el conjunto de validación= {best_result}, n_estimators= {best_est}, best_depth= {best_depth}\")\n",
    "print()\n",
    "print(f\"Exactitud del modelo en el conjunto de validación = {model.score(features_valid, target_valid)}\")\n",
    "print(f\"Exactitud del modelo en el conjunto de entrenamiento = {model.score(features_train, target_train)}\")\n",
    "print(f\"Exactitud del modelo en el conjunto de testeo = {model.score(features_test, target_test)}\")"
   ]
  },
  {
   "cell_type": "markdown",
   "metadata": {},
   "source": [
    "Un bosque aleatorio de 10  árboles, con profundidad de 1 da un nivel de exactitud de 0.52 en el conjunto de entrenamiento y parece estar sobreajustado, por lo tanto, no resulta suficiente para la tarea."
   ]
  },
  {
   "cell_type": "markdown",
   "metadata": {},
   "source": [
    "### 3.3 Regresión logística"
   ]
  },
  {
   "cell_type": "code",
   "execution_count": 9,
   "metadata": {},
   "outputs": [
    {
     "name": "stdout",
     "output_type": "stream",
     "text": [
      "RECM del mejor modelo en el conjunto de validación = 0.24261275272161742\n",
      "Exactitud del modelo en el conjunto de validación = 0.7573872472783826\n",
      "Exactitud del modelo en el conjunto de entrenamiento = 0.7467911318553092\n"
     ]
    }
   ],
   "source": [
    "#regresión logística\n",
    "model = LogisticRegression(random_state=12345, solver='lbfgs', max_iter=500, penalty='l2')\n",
    "model.fit(features_train, target_train)\n",
    "\n",
    "predict_valid = model.predict(features_valid)\n",
    "\n",
    "results = mean_squared_error(target_valid, predict_valid)\n",
    "\n",
    "print(f\"RECM del mejor modelo en el conjunto de validación = {results}\")\n",
    "print(f\"Exactitud del modelo en el conjunto de validación = {model.score(features_valid, target_valid)}\")\n",
    "print(f\"Exactitud del modelo en el conjunto de entrenamiento = {model.score(features_train, target_train)}\")"
   ]
  },
  {
   "cell_type": "markdown",
   "metadata": {},
   "source": [
    "La regresión logística tiene un error cuadrático menor en comparación con el bosque aleatorio y una exatitud de 0.75 en el conjunto  de validación y 0.74 en el conjunto de entrenamiento. No da indicio de estar sobreajustado. Por lo tanto, evaluaré la elección final de este modelo."
   ]
  },
  {
   "cell_type": "markdown",
   "metadata": {},
   "source": [
    "### 3.4 Regresión lineal"
   ]
  },
  {
   "cell_type": "code",
   "execution_count": 10,
   "metadata": {},
   "outputs": [
    {
     "name": "stdout",
     "output_type": "stream",
     "text": [
      "RECM del mejor modelo en el conjunto de validación = 0.19642912305724222\n",
      "Exactitud del modelo en el conjunto de validación = 0.07303309479416342\n",
      "Exactitud del modelo en el conjunto de entrenamiento = 0.08995572905826121\n"
     ]
    }
   ],
   "source": [
    "#regresión linear\n",
    "model = LinearRegression()\n",
    "model.fit(features_train, target_train)\n",
    "\n",
    "predicts_valid = model.predict(features_valid)\n",
    "\n",
    "result = mean_squared_error(target_valid, predicts_valid)\n",
    "\n",
    "print(f\"RECM del mejor modelo en el conjunto de validación = {result}\")\n",
    "print(f\"Exactitud del modelo en el conjunto de validación = {model.score(features_valid, target_valid)}\")\n",
    "print(f\"Exactitud del modelo en el conjunto de entrenamiento = {model.score(features_train, target_train)}\")"
   ]
  },
  {
   "cell_type": "markdown",
   "metadata": {},
   "source": [
    "La regresión lineal proporciona la menor exactitud de todos los modelos probados, por lo tanto queda descartado."
   ]
  },
  {
   "cell_type": "markdown",
   "metadata": {},
   "source": [
    "## 4. Comprobar la calidad del modelo usando el conjunto de prueba"
   ]
  },
  {
   "cell_type": "markdown",
   "metadata": {},
   "source": [
    "El modelo elegido para esta tarea será una regresión logística, el cual utilizaré con el conjunto de prueba. Elegí este modelo porque me dió la más alta exactitud en el conjunto de validación (0.75) y al compararlo con el conjunto de entrenamiento, no parece estar sobreajustado."
   ]
  },
  {
   "cell_type": "code",
   "execution_count": 11,
   "metadata": {},
   "outputs": [
    {
     "name": "stdout",
     "output_type": "stream",
     "text": [
      "Exactitud del modelo en el conjunto de prueba = 0.7489110143123833\n",
      "RECM del mejor modelo en el conjunto de prueba = 0.2510889856876167\n"
     ]
    }
   ],
   "source": [
    "#comprobar la calidad del LogisticRegression en el conjunto de prueba\n",
    "features\n",
    "target\n",
    "\n",
    "model = LogisticRegression(random_state=12345, solver='lbfgs', max_iter=500, penalty='l2')\n",
    "model.fit(features_train, target_train)\n",
    "\n",
    "test_predictions = model.predict(features)\n",
    "\n",
    "mse = mean_squared_error(target, test_predictions)\n",
    "\n",
    "print(f\"Exactitud del modelo en el conjunto de prueba = {model.score(features, target)}\")\n",
    "print(f\"RECM del mejor modelo en el conjunto de prueba = {mse}\")\n"
   ]
  },
  {
   "cell_type": "markdown",
   "metadata": {},
   "source": [
    "En el conjunto de prueba, la regresión logística proporciona una exactitud del 74%, bastante parecido a la manera en que se comportó con el conjunto de validación. "
   ]
  },
  {
   "cell_type": "markdown",
   "metadata": {},
   "source": [
    "## 5. Prueba de cordura"
   ]
  },
  {
   "cell_type": "code",
   "execution_count": 12,
   "metadata": {},
   "outputs": [
    {
     "name": "stdout",
     "output_type": "stream",
     "text": [
      "Número promedio de llamadas realizadas: 63.03889234598631\n",
      "RECM de la prueba de cordura: 33.23119658396647\n",
      "Número máximo de llamadas realizadas: 244.0\n"
     ]
    }
   ],
   "source": [
    "#segmentar los datos para la prueba\n",
    "features_sanity = users_behav.drop(['calls', 'is_ultra'], axis=1)\n",
    "target_sanity = users_behav['calls']\n",
    "\n",
    "print('Número promedio de llamadas realizadas:', target_sanity.mean())\n",
    "\n",
    "predict_sanity = pd.Series(target_sanity.mean(), index=target_sanity.index)\n",
    "\n",
    "mse_sanity = mean_squared_error(target_sanity, predict_sanity) ** 0.5\n",
    "\n",
    "print('RECM de la prueba de cordura:', mse_sanity)\n",
    "print('Número máximo de llamadas realizadas:', users_behav['calls'].max())"
   ]
  },
  {
   "cell_type": "markdown",
   "metadata": {},
   "source": [
    "Para realizar la prueba de cordura, utilicé el valor promedio de la cantidad de llamadas realizadas por los clientes y calculé el RECM utilizando ese valor. \n",
    "\n",
    "La RECM indica que, en promedio, las predicciones erraron por aproximadamente 33 llamadas, siendo que en el conjunto, el número de llamadas de algunos clientes llega hasta 244."
   ]
  },
  {
   "cell_type": "markdown",
   "metadata": {},
   "source": [
    "## Conclusión general"
   ]
  },
  {
   "cell_type": "markdown",
   "metadata": {},
   "source": [
    "Para cumplir con el objetivo de este proyecto probé varios modelos de regresión cambiando sus hiper-parámetros para ver cual de todos me proporccionaba el nivel más alto de exactitud, sin sobreajustarse. \n",
    "\n",
    "El modelo elegido fue una regresión logística, el cual, mediante comprobar la calidad, me proporcionó un nivel de exatitud de 0.74 en el conjunto de prueba. \n",
    "Adicionalmente se realizó una prueba de cordura, en la que separé las llamadas realizadas por los clientes y calculé su valor promedio para utilizarlo como valor predictivo al calcular posteriormente el error cuadrático medio. El resultado indicó que el modelo falló por aproximadamente 33 llamadas, teniendo en cuenta que algunos clientes realizan hasta 244 llamadas mensualmente.\n",
    "\n",
    "Como conclusión yo diría que el modelo funciona bastante bien en el conjunto de datos final y que al menos en el 74% de las veces, seremos capaces de recomenar el plan correcto a cada cliente."
   ]
  }
 ],
 "metadata": {
  "kernelspec": {
   "display_name": "Python 3",
   "language": "python",
   "name": "python3"
  },
  "language_info": {
   "codemirror_mode": {
    "name": "ipython",
    "version": 3
   },
   "file_extension": ".py",
   "mimetype": "text/x-python",
   "name": "python",
   "nbconvert_exporter": "python",
   "pygments_lexer": "ipython3",
   "version": "3.11.5"
  }
 },
 "nbformat": 4,
 "nbformat_minor": 2
}
